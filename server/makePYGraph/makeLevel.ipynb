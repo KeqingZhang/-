{
 "cells": [
  {
   "cell_type": "code",
   "execution_count": 1,
   "metadata": {},
   "outputs": [
    {
     "name": "stdout",
     "output_type": "stream",
     "text": [
      "[['C1:高级语言程序设计', 'C31:大学英语1', 'C32:线性代数', 'C33:高等数学1'], ['C2:电路分析基础', 'C34:大学物理1', 'C35:大学英语2', 'C36:高等数学2'], ['C3:模拟电子技术', 'C4:数字逻辑', 'C5:集合与图论', 'C6:数字逻辑实验', 'C7:C++语言程序设计', 'C37:大学物理2', 'C38:概率论'], ['C8:数据结构与算法', 'C9:计算机组成原理', 'C10:代数与逻辑', 'C11:计算机组成原理课设', 'C12:汇编语言程序设计', 'C13: 数字系统设计', 'C14: 计算机图形学'], ['C15:操作系统原理', 'C16:数据库原理', 'C17:计算机网络', 'C18:计算机系统结构', 'C19:人工智能导论', 'C20:数据结构课设', 'C21:微型计算机接口技术', 'C22:算法设计与分析', 'C23:人机交互引论', 'C24:数字图像处理'], ['C25:编译原理', 'C26:软件工程引论', 'C27:Linux操作系统', 'C28:数据挖掘', 'C29:IPv6技术及应用', 'C30:Python与数据分析']]\n"
     ]
    }
   ],
   "source": [
    "import json\n",
    "\n",
    "course_level = []\n",
    "for i in range(6):\n",
    "    course_level.append([])\n",
    "\n",
    "with open(\"course_data.json\", \"r\", encoding=\"utf-8\") as f:\n",
    "    content = json.load(f)\n",
    "    for course in content:\n",
    "        course_level[course[\"term\"]-1].append(course[\"name\"])\n",
    "\n",
    "print(course_level)\n"
   ]
  },
  {
   "cell_type": "code",
   "execution_count": null,
   "metadata": {},
   "outputs": [],
   "source": []
  }
 ],
 "metadata": {
  "kernelspec": {
   "display_name": "Python 3",
   "language": "python",
   "name": "python3"
  },
  "language_info": {
   "codemirror_mode": {
    "name": "ipython",
    "version": 3
   },
   "file_extension": ".py",
   "mimetype": "text/x-python",
   "name": "python",
   "nbconvert_exporter": "python",
   "pygments_lexer": "ipython3",
   "version": "3.9.7"
  }
 },
 "nbformat": 4,
 "nbformat_minor": 2
}
