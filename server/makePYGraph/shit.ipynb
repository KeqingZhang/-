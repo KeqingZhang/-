{
 "cells": [
  {
   "cell_type": "code",
   "execution_count": 10,
   "metadata": {},
   "outputs": [
    {
     "name": "stdout",
     "output_type": "stream",
     "text": [
      "[[{'C1:高级语言程序设计': (0, 1)}, {'C31:大学英语1': (1, 1)}, {'C32:线性代数': (2, 1)}, {'C33:高等数学1': (3, 1)}], [{'C2:电路分析基础': (0, 2)}, {'C34:大学物理1': (1, 2)}, {'C35:大学英语2': (2, 2)}, {'C36:高等数学2': (3, 2)}], [{'C3:模拟电子技术': (0, 3)}, {'C4:数字逻辑': (1, 3)}, {'C5:集合与图论': (2, 3)}, {'C6:数字逻辑实验': (3, 3)}, {'C7:C++语言程序设计': (4, 3)}, {'C37:大学物理2': (5, 3)}, {'C38:概率论': (6, 3)}], [{'C8:数据结构与算法': (0, 4)}, {'C9:计算机组成原理': (1, 4)}, {'C10:代数与逻辑': (2, 4)}, {'C11:计算机组成原理课设': (3, 4)}, {'C12:汇编语言程序设计': (4, 4)}, {'C13: 数字系统设计': (5, 4)}, {'C14: 计算机图形学': (6, 4)}], [{'C15:操作系统原理': (0, 5)}, {'C16:数据库原理': (1, 5)}, {'C17:计算机网络': (2, 5)}, {'C18:计算机系统结构': (3, 5)}, {'C19:人工智能导论': (4, 5)}, {'C20:数据结构课设': (5, 5)}, {'C22:算法设计与分析': (6, 5)}, {'C24:数字图像处理': (7, 5)}], [{'C21:微型计算机接口技术': (0, 6)}, {'C23:人机交互引论': (1, 6)}, {'C25:编译原理': (2, 6)}, {'C26:软件工程引论': (3, 6)}, {'C27:Linux操作系统': (4, 6)}, {'C28:数据挖掘': (5, 6)}, {'C29:IPv6技术及应用': (6, 6)}, {'C30:Python与数据分析': (7, 6)}]]\n",
      "[['C1:高级语言程序设计', 'C31:大学英语1', 'C32:线性代数', 'C33:高等数学1'], ['C2:电路分析基础', 'C34:大学物理1', 'C35:大学英语2', 'C36:高等数学2'], ['C3:模拟电子技术', 'C4:数字逻辑', 'C5:集合与图论', 'C6:数字逻辑实验', 'C7:C++语言程序设计', 'C37:大学物理2', 'C38:概率论'], ['C8:数据结构与算法', 'C9:计算机组成原理', 'C10:代数与逻辑', 'C11:计算机组成原理课设', 'C12:汇编语言程序设计', 'C13: 数字系统设计', 'C14: 计算机图形学'], ['C15:操作系统原理', 'C16:数据库原理', 'C17:计算机网络', 'C18:计算机系统结构', 'C19:人工智能导论', 'C20:数据结构课设', 'C22:算法设计与分析', 'C24:数字图像处理'], ['C21:微型计算机接口技术', 'C23:人机交互引论', 'C25:编译原理', 'C26:软件工程引论', 'C27:Linux操作系统', 'C28:数据挖掘', 'C29:IPv6技术及应用', 'C30:Python与数据分析']]\n"
     ]
    }
   ],
   "source": [
    "import json\n",
    "\n",
    "courseinTerm = []\n",
    "for i in range(6):\n",
    "    courseinTerm.append([])\n",
    "\n",
    "course_level = []\n",
    "for i in range(6):\n",
    "    course_level.append([])\n",
    "\n",
    "course_relation = []\n",
    "\n",
    "with open(\"course_data.json\", \"r\", encoding=\"utf-8\") as f:\n",
    "    content = json.load(f)\n",
    "    for course in content:\n",
    "        course_level[course[\"term\"]-1].append(course[\"name\"])\n",
    "        item = {course[\"name\"]: (len(courseinTerm[course[\"term\"]-1]), course[\"term\"])}\n",
    "        courseinTerm[course[\"term\"]-1].append(item)\n",
    "        for relation in course[\"pre_course\"]:\n",
    "            course_relation.append({\n",
    "                \"source\":relation,\n",
    "                \"target\":course[\"name\"],\n",
    "                \"label\": {\n",
    "                    \"show\": \"false\"\n",
    "                },\n",
    "                \"lineStyle\": {\n",
    "                    \"curveness\": 0.2,\\\n",
    "                    \"color\":\"#333\",\n",
    "                }\n",
    "                                    })\n",
    "\n",
    "\n",
    "print(courseinTerm)\n",
    "print(course_level)"
   ]
  },
  {
   "cell_type": "code",
   "execution_count": 5,
   "metadata": {},
   "outputs": [
    {
     "name": "stdout",
     "output_type": "stream",
     "text": [
      "[{'name': '大一上半学期', 'x': 100, 'y': 200}, {'name': '大一下半学期', 'x': 200, 'y': 200}, {'name': '大二上半学期', 'x': 300, 'y': 200}, {'name': '大二下半学期', 'x': 400, 'y': 200}, {'name': '大三上半学期', 'x': 500, 'y': 200}, {'name': '大三下半学期', 'x': 600, 'y': 200}, {'name': 'C1:高级语言程序设计', 'x': 100, 'y': 400}, {'name': 'C31:大学英语1', 'x': 100, 'y': 600}, {'name': 'C32:线性代数', 'x': 100, 'y': 800}, {'name': 'C33:高等数学1', 'x': 100, 'y': 1000}, {'name': 'C2:电路分析基础', 'x': 200, 'y': 400}, {'name': 'C34:大学物理1', 'x': 200, 'y': 600}, {'name': 'C35:大学英语2', 'x': 200, 'y': 800}, {'name': 'C36:高等数学2', 'x': 200, 'y': 1000}, {'name': 'C3:模拟电子技术', 'x': 300, 'y': 400}, {'name': 'C4:数字逻辑', 'x': 300, 'y': 600}, {'name': 'C5:集合与图论', 'x': 300, 'y': 800}, {'name': 'C6:数字逻辑实验', 'x': 300, 'y': 1000}, {'name': 'C7:C++语言程序设计', 'x': 300, 'y': 1200}, {'name': 'C37:大学物理2', 'x': 300, 'y': 1400}, {'name': 'C38:概率论', 'x': 300, 'y': 1600}, {'name': 'C8:数据结构与算法', 'x': 400, 'y': 400}, {'name': 'C9:计算机组成原理', 'x': 400, 'y': 600}, {'name': 'C10:代数与逻辑', 'x': 400, 'y': 800}, {'name': 'C11:计算机组成原理课设', 'x': 400, 'y': 1000}, {'name': 'C12:汇编语言程序设计', 'x': 400, 'y': 1200}, {'name': 'C13: 数字系统设计', 'x': 400, 'y': 1400}, {'name': 'C14: 计算机图形学', 'x': 400, 'y': 1600}, {'name': 'C15:操作系统原理', 'x': 500, 'y': 400}, {'name': 'C16:数据库原理', 'x': 500, 'y': 600}, {'name': 'C17:计算机网络', 'x': 500, 'y': 800}, {'name': 'C18:计算机系统结构', 'x': 500, 'y': 1000}, {'name': 'C19:人工智能导论', 'x': 500, 'y': 1200}, {'name': 'C20:数据结构课设', 'x': 500, 'y': 1400}, {'name': 'C22:算法设计与分析', 'x': 500, 'y': 1600}, {'name': 'C24:数字图像处理', 'x': 500, 'y': 1800}, {'name': 'C21:微型计算机接口技术', 'x': 600, 'y': 400}, {'name': 'C23:人机交互引论', 'x': 600, 'y': 600}, {'name': 'C25:编译原理', 'x': 600, 'y': 800}, {'name': 'C26:软件工程引论', 'x': 600, 'y': 1000}, {'name': 'C27:Linux操作系统', 'x': 600, 'y': 1200}, {'name': 'C28:数据挖掘', 'x': 600, 'y': 1400}, {'name': 'C29:IPv6技术及应用', 'x': 600, 'y': 1600}, {'name': 'C30:Python与数据分析', 'x': 600, 'y': 1800}]\n"
     ]
    }
   ],
   "source": [
    "term_name = [\n",
    "    \"大一上半学期\",\n",
    "    \"大一下半学期\",\n",
    "    \"大二上半学期\",\n",
    "    \"大二下半学期\",\n",
    "    \"大三上半学期\",\n",
    "    \"大三下半学期\",\n",
    "]\n",
    "\n",
    "course_position = []\n",
    "\n",
    "for i in range(len(term_name)):\n",
    "    course_position.append({\n",
    "            \"name\":str(term_name[i]),\n",
    "            \"x\":100*(i+1),\n",
    "            \"y\":200})\n",
    "\n",
    "\n",
    "for i in range(len(course_level)):\n",
    "    for j in range(len(course_level[i])):\n",
    "        course_position.append({\n",
    "            \"name\":str(course_level[i][j]),\n",
    "            \"x\":100*(i+1),\n",
    "            \"y\":200*(j+2)})\n",
    "print(course_position)\n",
    "# course_position = json.dumps(course_position)\n",
    "with open('course_position.json', 'w', encoding='utf-8') as f:\n",
    "    json.dump(course_position, f, ensure_ascii=False, indent=2)\n"
   ]
  },
  {
   "cell_type": "code",
   "execution_count": 9,
   "metadata": {},
   "outputs": [],
   "source": [
    "with open('course_relation.json', 'w', encoding='utf-8') as f:\n",
    "    json.dump(course_relation, f, ensure_ascii=False, indent=2)"
   ]
  }
 ],
 "metadata": {
  "kernelspec": {
   "display_name": "base",
   "language": "python",
   "name": "python3"
  },
  "language_info": {
   "codemirror_mode": {
    "name": "ipython",
    "version": 3
   },
   "file_extension": ".py",
   "mimetype": "text/x-python",
   "name": "python",
   "nbconvert_exporter": "python",
   "pygments_lexer": "ipython3",
   "version": "3.9.13"
  }
 },
 "nbformat": 4,
 "nbformat_minor": 2
}
